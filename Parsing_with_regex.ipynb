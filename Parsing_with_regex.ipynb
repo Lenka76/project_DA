{
 "cells": [
  {
   "cell_type": "code",
   "execution_count": null,
   "metadata": {
    "Collapsed": "false"
   },
   "outputs": [],
   "source": [
    "import pandas as pd\n",
    "pd.set_option('display.max_rows', 1500)"
   ]
  },
  {
   "cell_type": "code",
   "execution_count": null,
   "metadata": {
    "Collapsed": "false"
   },
   "outputs": [],
   "source": [
    "df = pd.read_csv(\"all.csv\")\n",
    "df = df[[\"NAZEV_DOPLNEK\"]]\n",
    "df = df[~df[\"NAZEV_DOPLNEK\"].isnull()]"
   ]
  },
  {
   "cell_type": "code",
   "execution_count": null,
   "metadata": {
    "Collapsed": "false"
   },
   "outputs": [],
   "source": [
    "df = df.sort_values(by=\"NAZEV_DOPLNEK\").reset_index(drop=True)"
   ]
  },
  {
   "cell_type": "code",
   "execution_count": null,
   "metadata": {
    "Collapsed": "false"
   },
   "outputs": [],
   "source": [
    "import re"
   ]
  },
  {
   "cell_type": "code",
   "execution_count": null,
   "metadata": {
    "Collapsed": "false"
   },
   "outputs": [],
   "source": [
    "volume_units = {\"ML\", \"DL\", \"L\"}\n",
    "\n",
    "\n",
    "def parser(label):\n",
    "    def match_simple(s):\n",
    "        \"\"\"\n",
    "        Parse a name containing a separate number (without units), interpreted as the\n",
    "        amount, and a number followed by a unit, interpreted as the amount in package.\n",
    "        \"\"\"\n",
    "        # 1 group - amount\n",
    "        regex_amount = re.compile(r\"((?:\\d*\\.)?\\d+)\")\n",
    "        \n",
    "        # 3 groups - entire match,  in_package, in_package_units\n",
    "        regex_in_package = re.compile(r\"(((?:\\d*\\.)?\\d+) ?(MG|G|MCG|KU|IU|IR|GM|RG))\")\n",
    "        \n",
    "        # -> apply together\n",
    "        match_in_package = regex_in_package.match(s)\n",
    "        \n",
    "        if match_in_package is None:\n",
    "            return None\n",
    "        \n",
    "        in_package_total_match = match_in_package.groups()[0]\n",
    "        in_package = match_in_package.groups()[1]\n",
    "        in_package_units = match_in_package.groups()[2]\n",
    "        \n",
    "        match_amount = regex_amount.search(s.replace(in_package_total_match, \"\"))\n",
    "        \n",
    "        if match_amount is None:\n",
    "            return None\n",
    "        \n",
    "        amount = match_amount.groups()[0]\n",
    "        \n",
    "        return {\n",
    "            \"amount\": amount,\n",
    "            \"in_package\": in_package,\n",
    "            \"in_package_units\": in_package_units,\n",
    "            \"_source\": \"simple\",\n",
    "        }\n",
    "        \n",
    "    def match_complex1(s):\n",
    "        \"\"\"\n",
    "        Parse a string containing either a string such as 1X30VOLUME_UNIT,\n",
    "        interpreted as the amount and its units, or a string such as\n",
    "        3X50WEIGHT_UNIT, interpreted as the amount, amount in package and\n",
    "        its units.\n",
    "        \"\"\"\n",
    "        # 2 groups - amount, amount_units\n",
    "        regex_amount = re.compile(r\"((?:(?:\\d*\\.)?\\d+X)*(?:\\d*\\.)?\\d+) ?(L|ML)?\")\n",
    "\n",
    "        # 3 groups - amount, in_package, in_package_units\n",
    "        regex_amount_in_package = re.compile(\n",
    "            r\"((?:(?:\\d*\\.)?\\d+X)*(?:\\d*\\.)?\\d+)X((?:\\d*\\.)?\\d+) ?(MG|G|MCG|KU|IU|IR|GM|RG)\"\n",
    "        )\n",
    "        \n",
    "        # -> apply one or the other\n",
    "        match_amount = regex_amount.match(s)\n",
    "        \n",
    "        if match_amount is not None:\n",
    "            amount = match_amount.groups()[0]\n",
    "            amount_units = match_amount.groups()[1]\n",
    "            \n",
    "            return {\n",
    "                \"amount\": amount,\n",
    "                \"amount_units\": amount_units,\n",
    "                \"_source\": \"complex1\",\n",
    "            }\n",
    "        \n",
    "        match_amount_in_package = regex_amount_in_package.match(s)\n",
    "        \n",
    "        if match_amount_in_package is not None:\n",
    "            amount = match_amount_in_package.groups()[0]\n",
    "            in_package = match_amount_in_package.groups()[1]\n",
    "            in_package_units = match_amount_in_package.groups()[2]\n",
    "            \n",
    "            return{\n",
    "                \"amount\": amount,\n",
    "                \"in_package\": in_package,\n",
    "                \"in_package_units\": in_package_units,\n",
    "                \"_source\": \"complex1\",\n",
    "            }\n",
    "        \n",
    "        return None\n",
    "        \n",
    "    def match_complex2(s):\n",
    "        \"\"\"\n",
    "        Parse a name containing a string such as 1X40 or 3X28, interpreted as the amount, and\n",
    "        1MG/3MG or 0.5MG/ML, interpreted as the amount in package.\n",
    "        \"\"\"\n",
    "        # 1 group - in_package\n",
    "        regex_in_package = re.compile(r\"((?:\\d*\\.)?\\d+ ?[A-Z]+(?:/(?:(?:\\d*\\.)?\\d+)? ?[A-Z]+)*)\")\n",
    "        match_in_package = regex_in_package.match(s)\n",
    "        \n",
    "        if match_in_package is None:\n",
    "            return None\n",
    "        \n",
    "        in_package = match_in_package.groups()[0]\n",
    "        \n",
    "        # 2 groups - amount, amount_units\n",
    "        regex_amount = re.compile(r\"((?:(?:\\d*\\.)?\\d+X)*(?:\\d*\\.)?\\d+) ?([A-Z]*)\")\n",
    "        \n",
    "        match_amount = regex_amount.search(s.replace(in_package, \"\"))\n",
    "        \n",
    "        if match_amount is None:\n",
    "            return None\n",
    "        \n",
    "        amount = match_amount.groups()[0]\n",
    "        amount_units = match_amount.groups()[1]\n",
    "        \n",
    "        return {\n",
    "            \"amount\": amount,\n",
    "            \"amount_units\": amount_units,\n",
    "            \"in_package\": in_package,\n",
    "            \"_source\": \"complex2\",\n",
    "        }\n",
    "    \n",
    "    def match_units_in_x_part(s):\n",
    "        \"\"\"\n",
    "        Parse a name containing a string such as 1X50MG or 10X500ML.\n",
    "        \"\"\"    \n",
    "        regex = re.compile(r\"((?:\\d*\\.)?\\d+)X((?:\\d*\\.)?\\d+) ?([A-Z]+)\")\n",
    "        match = regex.search(s)\n",
    "\n",
    "        if match is None:\n",
    "            return None\n",
    "\n",
    "        num1, num2, units = match.groups()\n",
    "\n",
    "        if units in volume_units:\n",
    "            return {\n",
    "                \"amount\": num1 + \"X\" + num2,\n",
    "                \"amount_units\": units,\n",
    "                \"_source\": \"units_in_x_part\",\n",
    "            }\n",
    "        else:\n",
    "            return {\n",
    "                \"amount\": num1,\n",
    "                \"in_package\": num2,\n",
    "                \"in_package_units\": units,\n",
    "                \"_source\": \"units_in_x_part\",\n",
    "            }\n",
    "\n",
    "    # Replace decimal commas by points.\n",
    "    \n",
    "    if pd.isnull(label):\n",
    "        row = None\n",
    "    else:\n",
    "        label = label.replace(\",\", \".\")\n",
    "\n",
    "        # 1. Try to match the most complex pattern.\n",
    "        row = match_complex2(label)\n",
    "\n",
    "        # 2. Try to match a simpler pattern.\n",
    "        if row is None:\n",
    "            row = match_complex1(label)\n",
    "\n",
    "        # 3. Try to match the simplest pattern.\n",
    "        if row is None:\n",
    "            row = match_simple(label)\n",
    "\n",
    "        # 4. Try to match for units appearing in the X part.\n",
    "        if row is None:\n",
    "            row = match_units_in_x_part(label)\n",
    "    \n",
    "    # 5. Unable to parse the row.\n",
    "    if row is None:    \n",
    "        row = {\"original\": label, \"is_ok\": False}\n",
    "    else:\n",
    "        row[\"original\"] = label\n",
    "        row[\"is_ok\"] = True\n",
    "\n",
    "    index = [\"original\", \"is_ok\", \"amount\", \"amount_units\", \"in_package\", \"in_package_units\", \"_source\"]\n",
    "    return pd.Series(row, index=index)"
   ]
  },
  {
   "cell_type": "code",
   "execution_count": null,
   "metadata": {
    "Collapsed": "false"
   },
   "outputs": [],
   "source": [
    "# Match string in row[\"NAZEV_DOPLNEK\"] containing \"+\" and replace it with empty string\n",
    "\n",
    "def plus(row):\n",
    "    label = row[\"NAZEV_DOPLNEK\"]\n",
    "    row[\"SUPER_ORIGINAL\"] = label\n",
    "    \n",
    "    # Match (num+num).\n",
    "    regex_num = re.compile(r\"(\\((?:\\d*\\.)?\\d+ ?\\+ ?(?:\\d*\\.)?\\d+\\))\")\n",
    "    if regex_num.search(label):\n",
    "        row[\"NAZEV_DOPLNEK\"] = regex_num.sub(\"\", row[\"NAZEV_DOPLNEK\"]).strip()\n",
    "        return row\n",
    "    \n",
    "    # Match +numJ.\n",
    "    regex_numJ = re.compile(r\"(\\+ ?(?:\\d*\\.)?\\d+J)\")\n",
    "    if regex_numJ.search(label):\n",
    "        row[\"NAZEV_DOPLNEK\"] = regex_numJ.sub(\"\", row[\"NAZEV_DOPLNEK\"]).strip()\n",
    "        return row\n",
    "    \n",
    "    # Match +numINH.\n",
    "    regex_numINH = re.compile(r\"(\\+ ?(?:\\d*\\.)?\\d+INH)\")\n",
    "    if regex_numINH.search(label):\n",
    "        row[\"NAZEV_DOPLNEK\"] = regex_numINH.sub(\"\", row[\"NAZEV_DOPLNEK\"]).strip()\n",
    "        return row\n",
    "    \n",
    "    # Match +string.\n",
    "    regex_string = re.compile(r\"(\\+\\w+)\")\n",
    "    if regex_string.search(label):\n",
    "        row[\"NAZEV_DOPLNEK\"] = regex_string.sub(\"\", row[\"NAZEV_DOPLNEK\"]).strip()\n",
    "        return row\n",
    "    \n",
    "    # Match string+string.\n",
    "    regex_str_str = re.compile(r\"(\\w+\\+\\w+)\")\n",
    "    if regex_str_str.search(label):\n",
    "        row[\"NAZEV_DOPLNEK\"] = regex_str_str.sub(\"\", row[\"NAZEV_DOPLNEK\"]).strip()\n",
    "        return row\n",
    "\n",
    "    return row"
   ]
  },
  {
   "cell_type": "code",
   "execution_count": null,
   "metadata": {
    "Collapsed": "false"
   },
   "outputs": [],
   "source": [
    "df[df[\"NAZEV_DOPLNEK\"].str.contains(\"\\+\")].head(10)"
   ]
  },
  {
   "cell_type": "code",
   "execution_count": null,
   "metadata": {
    "Collapsed": "false"
   },
   "outputs": [],
   "source": [
    "masked_df = df.apply(plus, axis=1)\n",
    "masked_df"
   ]
  },
  {
   "cell_type": "code",
   "execution_count": null,
   "metadata": {
    "Collapsed": "false"
   },
   "outputs": [],
   "source": [
    "plus_df = masked_df[masked_df[\"NAZEV_DOPLNEK\"].str.contains(r\"\\+\")]\n",
    "df = masked_df[~masked_df[\"NAZEV_DOPLNEK\"].str.contains(r\"\\+\")]"
   ]
  },
  {
   "cell_type": "code",
   "execution_count": null,
   "metadata": {},
   "outputs": [],
   "source": [
    "not_ok4 = plus_df\n",
    "not_ok4"
   ]
  },
  {
   "cell_type": "code",
   "execution_count": null,
   "metadata": {
    "Collapsed": "false"
   },
   "outputs": [],
   "source": [
    "parsed = df[\"NAZEV_DOPLNEK\"].apply(parser)\n",
    "parsed[\"SUPER_ORIGINAL\"] = df[\"SUPER_ORIGINAL\"]"
   ]
  },
  {
   "cell_type": "code",
   "execution_count": null,
   "metadata": {
    "Collapsed": "false"
   },
   "outputs": [],
   "source": [
    "parsed.head(100)"
   ]
  },
  {
   "cell_type": "code",
   "execution_count": null,
   "metadata": {
    "Collapsed": "false"
   },
   "outputs": [],
   "source": [
    "parsed[~parsed[\"is_ok\"]].head(30)"
   ]
  },
  {
   "cell_type": "code",
   "execution_count": null,
   "metadata": {
    "Collapsed": "false"
   },
   "outputs": [],
   "source": [
    "def product(values):\n",
    "    result = 1.0\n",
    "    \n",
    "    for value in values:\n",
    "        result *= value\n",
    "        \n",
    "    return result\n",
    "\n",
    "\n",
    "def handle_nested_value(row):\n",
    "    \"\"\"\n",
    "    Match amount of the form 2X3 and in_package of the form 1MG/3MG or 4MG/5ML.\n",
    "    The amount is always multiplied together (i.e., 2X3 -> 6), the in_package part\n",
    "    depends on the units. All values appearing with non-volume units are added together,\n",
    "    upon encountering any value paired with a volume unit, the subresult is divided by\n",
    "    that value.\n",
    "    \"\"\"\n",
    "    amount, in_package = row[\"amount\"], row[\"in_package\"]\n",
    "    amount_regex = re.compile(r\"(?:((?:\\d*\\.)?\\d+)X)*((?:\\d*\\.)?\\d+)\")\n",
    "    in_package_regex = re.compile(r\"((?:\\d*\\.)?\\d+)? ?([A-Z]+)\")\n",
    "    \n",
    "    amount_match = amount_regex.fullmatch(amount)\n",
    "    \n",
    "    if not amount_match:\n",
    "        return None\n",
    "    \n",
    "    in_package_vals = []\n",
    "    in_package_units = []\n",
    "    \n",
    "    for subpart in in_package.split(\"/\"):\n",
    "        subpart_match = in_package_regex.fullmatch(subpart)\n",
    "        \n",
    "        if not subpart_match:\n",
    "            return None\n",
    "        \n",
    "        val, unit = subpart_match.groups()\n",
    "        in_package_vals.append(val)\n",
    "        in_package_units.append(unit)\n",
    "\n",
    "    amounts = [float(am) for am in amount_match.groups() if am is not None]\n",
    "    new_amount = product(amounts)\n",
    "    \n",
    "    new_in_package = 0.0\n",
    "    \n",
    "    for value, unit in zip(in_package_vals, in_package_units):\n",
    "        if unit in volume_units:\n",
    "            new_in_package /= float(value) if value is not None else 1.0\n",
    "        else:\n",
    "            if value is None:\n",
    "                return None\n",
    "            \n",
    "            new_in_package += float(value)\n",
    "\n",
    "    row[\"processed_amount\"] = new_amount\n",
    "    row[\"processed_in_package\"] = new_in_package\n",
    "    row[\"in_package_units\"] = in_package_units[0]\n",
    "    \n",
    "    return row\n",
    "\n",
    "\n",
    "def process_amounts_and_units(row):\n",
    "    amount, in_package = row[\"amount\"], row[\"in_package\"]\n",
    "    \n",
    "    if amount == \"\" or pd.isnull(amount) or in_package == \"\" or pd.isnull(in_package) or not row[\"is_ok\"]:\n",
    "        row[\"is_ok\"] = False\n",
    "        row[\"_postprocessing\"] = \"none\"\n",
    "        return row\n",
    "    else:\n",
    "        regex = re.compile(r\"(\\d+) ?([A-Z]+)\")\n",
    "        match = regex.fullmatch(in_package)\n",
    "        \n",
    "        if not match or \"X\" in amount:\n",
    "            nested = handle_nested_value(row)\n",
    "\n",
    "            if nested is None:\n",
    "                row[\"is_ok\"] = False\n",
    "                row[\"_postprocessing\"] = \"nested_failed\"\n",
    "                return row\n",
    "            \n",
    "            nested[\"_postprocessing\"] = \"nested\"\n",
    "            return nested\n",
    "        \n",
    "        value, unit = match.groups()\n",
    "        \n",
    "        amount = float(amount)\n",
    "        value = float(value)\n",
    "        \n",
    "        if unit in volume_units:\n",
    "            new_amount = amount * value\n",
    "            new_in_package = float(\"nan\")\n",
    "        else:\n",
    "            new_amount = amount\n",
    "            new_in_package = value\n",
    "        \n",
    "        row[\"processed_amount\"] = new_amount\n",
    "        row[\"processed_in_package\"] = new_in_package\n",
    "        row[\"in_package_units\"] = unit\n",
    "        row[\"_postprocessing\"] = \"simple\"\n",
    "        \n",
    "        return row\n"
   ]
  },
  {
   "cell_type": "code",
   "execution_count": null,
   "metadata": {
    "Collapsed": "false"
   },
   "outputs": [],
   "source": [
    "parsed_processed = parsed.apply(process_amounts_and_units, axis=1)\n",
    "parsed_processed = parsed_processed[[\n",
    "    \"original\",\n",
    "    \"SUPER_ORIGINAL\",\n",
    "    \"amount\",\n",
    "    \"in_package\",\n",
    "    \"_source\",\n",
    "    \"processed_amount\",\n",
    "    \"amount_units\",\n",
    "    \"processed_in_package\",\n",
    "    \"in_package_units\",\n",
    "    \"_postprocessing\",\n",
    "    \"is_ok\",\n",
    "]]"
   ]
  },
  {
   "cell_type": "code",
   "execution_count": null,
   "metadata": {
    "Collapsed": "false"
   },
   "outputs": [],
   "source": [
    "parsed_processed.head(100)"
   ]
  },
  {
   "cell_type": "code",
   "execution_count": null,
   "metadata": {
    "Collapsed": "false"
   },
   "outputs": [],
   "source": [
    "volume_units_present = parsed_processed[\"amount_units\"] == \"ML\"\n",
    "volume = parsed_processed[volume_units_present]#.reset_index(drop=True)\n",
    "\n",
    "non_volume = parsed_processed[~volume_units_present]#.reset_index(drop=True)\n",
    "alright = non_volume[non_volume[\"is_ok\"]]\n",
    "to_check = non_volume[~non_volume[\"is_ok\"]]\n"
   ]
  },
  {
   "cell_type": "code",
   "execution_count": null,
   "metadata": {
    "Collapsed": "false"
   },
   "outputs": [],
   "source": [
    "volume"
   ]
  },
  {
   "cell_type": "code",
   "execution_count": null,
   "metadata": {
    "Collapsed": "false"
   },
   "outputs": [],
   "source": [
    "to_check"
   ]
  },
  {
   "cell_type": "code",
   "execution_count": null,
   "metadata": {
    "Collapsed": "false"
   },
   "outputs": [],
   "source": [
    "#If there is correct amount and in_package in to_check table, then:\n",
    "def correction(row):\n",
    "    amount, in_package = row[\"amount\"], row[\"in_package\"]\n",
    "    \n",
    "    if amount == \"\" or pd.isnull(amount) or in_package == \"\" or pd.isnull(in_package):\n",
    "        row[\"is_ok\"] = False\n",
    "        return row\n",
    "    elif row[\"amount_units\"] == \"D\" or row[\"amount_units\"] == \"L\":\n",
    "        row[\"is_ok\"] = False\n",
    "        return row\n",
    "    elif row[\"_source\"] == \"complex1\" or row[\"_source\"] == \"complex2\":\n",
    "        row[\"is_ok\"] = False\n",
    "        return row\n",
    "    elif row[\"in_package_units\"] == \"D\" or row[\"in_package_units\"] == \"X\" or row[\"in_package_units\"] ==\"LTX\" or row[\"in_package_units\"] == \"GMX\" or row[\"in_package_units\"] == \"LT\" or row[\"in_package_units\"] == \"MLX\" or row[\"in_package_units\"] == \"MGX\" or row[\"in_package_units\"] == \"LAH\" or row[\"in_package_units\"] == \"MLPELAH\" or row[\"in_package_units\"] == \"MLSKLO\" or row[\"in_package_units\"] == \"MLPE\" or row[\"in_package_units\"] == \"GB\":\n",
    "        row[\"is_ok\"] = False\n",
    "        return row\n",
    "    else:\n",
    "        amount = float(amount)\n",
    "        in_package = float(in_package)\n",
    "        row[\"processed_amount\"] = amount\n",
    "        row[\"processed_in_package\"] = in_package\n",
    "        row[\"is_ok\"] = True\n",
    "        return row"
   ]
  },
  {
   "cell_type": "code",
   "execution_count": null,
   "metadata": {
    "Collapsed": "false"
   },
   "outputs": [],
   "source": [
    "checked = to_check.apply(correction, axis = 1)\n",
    "checked"
   ]
  },
  {
   "cell_type": "code",
   "execution_count": null,
   "metadata": {
    "Collapsed": "false"
   },
   "outputs": [],
   "source": [
    "alright[\"amount_in_package\"] = alright[\"processed_amount\"] * alright[\"processed_in_package\"]"
   ]
  },
  {
   "cell_type": "code",
   "execution_count": null,
   "metadata": {
    "Collapsed": "false"
   },
   "outputs": [],
   "source": [
    "alright"
   ]
  },
  {
   "cell_type": "code",
   "execution_count": null,
   "metadata": {
    "Collapsed": "false"
   },
   "outputs": [],
   "source": [
    "alright2 = checked[checked[\"is_ok\"]]\n",
    "alright2[\"amount_in_package\"] = alright2[\"processed_amount\"] * alright2[\"processed_in_package\"]\n",
    "alright2"
   ]
  },
  {
   "cell_type": "code",
   "execution_count": null,
   "metadata": {
    "Collapsed": "false"
   },
   "outputs": [],
   "source": [
    "alright = pd.concat([alright,alright2] , axis = \"index\").reset_index(drop=True)\n",
    "alright"
   ]
  },
  {
   "cell_type": "code",
   "execution_count": null,
   "metadata": {
    "Collapsed": "false"
   },
   "outputs": [],
   "source": [
    "alright3 = volume[volume[\"is_ok\"]]\n",
    "alright3[\"amount_in_package\"] = alright3[\"processed_amount\"] * alright3[\"processed_in_package\"]\n",
    "alright3"
   ]
  },
  {
   "cell_type": "code",
   "execution_count": null,
   "metadata": {
    "Collapsed": "false"
   },
   "outputs": [],
   "source": [
    "alright = pd.concat([alright, alright3], axis = \"index\").reset_index(drop=True)\n",
    "alright"
   ]
  },
  {
   "cell_type": "code",
   "execution_count": null,
   "metadata": {
    "Collapsed": "false"
   },
   "outputs": [],
   "source": [
    "def unification(row):\n",
    "    amount_in_pckg = row[\"amount_in_package\"]\n",
    "    \n",
    "    \"\"\"\n",
    "    For further calculations unify in_package_units to grams \"G\" if unit is in \"MG\" or \"MCG\"\n",
    "    \"\"\"\n",
    "    \n",
    "    if row[\"in_package_units\"] == \"MG\":\n",
    "        row[\"amount_in_package_g\"] = amount_in_pckg / 1000\n",
    "        return row\n",
    "    elif row[\"in_package_units\"] == \"MCG\":\n",
    "        row[\"amount_in_package_g\"] = amount_in_pckg / 1000000\n",
    "        return row\n",
    "    else:\n",
    "        return row\n",
    "        "
   ]
  },
  {
   "cell_type": "code",
   "execution_count": null,
   "metadata": {
    "Collapsed": "false"
   },
   "outputs": [],
   "source": [
    "new_alright = alright.apply(unification, axis = 1)\n",
    "new_alright"
   ]
  },
  {
   "cell_type": "code",
   "execution_count": null,
   "metadata": {
    "Collapsed": "false"
   },
   "outputs": [],
   "source": [
    "not_ok1 = volume[~volume[\"is_ok\"]]\n",
    "not_ok2 = pokus[~pokus[\"is_ok\"]]\n",
    "not_ok2"
   ]
  },
  {
   "cell_type": "code",
   "execution_count": null,
   "metadata": {
    "Collapsed": "false"
   },
   "outputs": [],
   "source": [
    "not_ok = pd.concat([not_ok1, not_ok2, not_ok4] , axis = \"index\").reset_index(drop=True)\n",
    "not_ok"
   ]
  },
  {
   "cell_type": "code",
   "execution_count": null,
   "metadata": {
    "Collapsed": "false"
   },
   "outputs": [],
   "source": [
    "dodatek = pd.concat([not_ok, new_alright], axis = \"index\").reset_index(drop=True)\n",
    "dodatek"
   ]
  },
  {
   "cell_type": "code",
   "execution_count": null,
   "metadata": {
    "Collapsed": "false"
   },
   "outputs": [],
   "source": [
    "temp = dodatek.drop(columns=[\"_postprocessing\", \"is_ok\"])\n",
    "temp[temp.isna().all(axis=1)]"
   ]
  },
  {
   "cell_type": "code",
   "execution_count": null,
   "metadata": {
    "Collapsed": "false"
   },
   "outputs": [],
   "source": [
    "dodatek.to_csv(\"parsed_4.csv\", encoding = \"utf-8\")"
   ]
  }
 ],
 "metadata": {
  "kernelspec": {
   "display_name": "Python 3",
   "language": "python",
   "name": "python3"
  },
  "language_info": {
   "codemirror_mode": {
    "name": "ipython",
    "version": 3
   },
   "file_extension": ".py",
   "mimetype": "text/x-python",
   "name": "python",
   "nbconvert_exporter": "python",
   "pygments_lexer": "ipython3",
   "version": "3.7.6"
  }
 },
 "nbformat": 4,
 "nbformat_minor": 4
}
