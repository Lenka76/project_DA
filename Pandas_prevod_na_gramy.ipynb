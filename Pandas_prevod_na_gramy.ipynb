{
 "cells": [
  {
   "cell_type": "code",
   "execution_count": null,
   "metadata": {},
   "outputs": [],
   "source": [
    "import pandas as pd"
   ]
  },
  {
   "cell_type": "code",
   "execution_count": null,
   "metadata": {},
   "outputs": [],
   "source": [
    "df = pd.read_csv(\"data_1.csv\", encoding = \"utf-8\")\n",
    "df"
   ]
  },
  {
   "cell_type": "code",
   "execution_count": null,
   "metadata": {},
   "outputs": [],
   "source": [
    "def unification(row):\n",
    "    amount_in_pckg = row[\"MNOZSTVO_LATKY_NA_JEDNOTKU_BALENIA\"]\n",
    "    \n",
    "    \"\"\"\n",
    "    For further calculations unify in_package_units to grams \"G\" if unit is in \"MG\" or \"MCG\"\n",
    "    \"\"\"\n",
    "    \n",
    "    if row[\"LATKA_JEDNOTKY\"] == \"MG\":\n",
    "        row[\"MNOZSTVO_LATKY_V_BALENI_G\"] = amount_in_pckg / 1000\n",
    "        return row\n",
    "    elif row[\"LATKA_JEDNOTKY\"] == \"MCG\":\n",
    "        row[\"MNOZSTVO_LATKY_V_BALENI_G\"] = amount_in_pckg / 1000000\n",
    "        return row\n",
    "    else:\n",
    "        return row"
   ]
  },
  {
   "cell_type": "code",
   "execution_count": null,
   "metadata": {},
   "outputs": [],
   "source": [
    "df = df.dropna(subset = [\"MNOZSTVO_LATKY_NA_JEDNOTKU_BALENIA\"])"
   ]
  },
  {
   "cell_type": "code",
   "execution_count": null,
   "metadata": {},
   "outputs": [],
   "source": [
    "new_df = df.drop(columns = 'Unnamed: 0')\n",
    "new_df"
   ]
  },
  {
   "cell_type": "code",
   "execution_count": null,
   "metadata": {},
   "outputs": [],
   "source": [
    "final_df = new_df.apply(unification, axis = 1)\n",
    "final_df"
   ]
  },
  {
   "cell_type": "code",
   "execution_count": null,
   "metadata": {},
   "outputs": [],
   "source": [
    "final_df.to_csv(\"data_2.csv\", encoding = \"utf-8\", index = False)"
   ]
  }
 ],
 "metadata": {
  "kernelspec": {
   "display_name": "Python 3",
   "language": "python",
   "name": "python3"
  },
  "language_info": {
   "codemirror_mode": {
    "name": "ipython",
    "version": 3
   },
   "file_extension": ".py",
   "mimetype": "text/x-python",
   "name": "python",
   "nbconvert_exporter": "python",
   "pygments_lexer": "ipython3",
   "version": "3.7.6"
  }
 },
 "nbformat": 4,
 "nbformat_minor": 4
}
